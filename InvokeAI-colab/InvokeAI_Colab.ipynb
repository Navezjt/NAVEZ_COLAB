{
  "nbformat": 4,
  "nbformat_minor": 0,
  "metadata": {
    "colab": {
      "private_outputs": true,
      "provenance": [],
      "gpuType": "T4",
      "cell_execution_strategy": "setup"
    },
    "kernelspec": {
      "name": "python3",
      "display_name": "Python 3"
    },
    "language_info": {
      "name": "python"
    },
    "accelerator": "GPU"
  },
  "cells": [
    {
      "cell_type": "markdown",
      "source": [
        "#🧠NAVEZ_InvokeAI_colab ⚡\n",
        "\n",
        "*if you find this helpful consider becoming a member on patreon, subscribe to my youtube for Ai applications guides*\n",
        "\n",
        "[![Patreon](https://img.shields.io/badge/Patreon-Support-orange?style=rounded-square&logo=patreon)](https://www.patreon.com/user?u=98917275)\n",
        "[![Youtube](https://img.shields.io/badge/Youtube-Subscribe-red?style=rounded-square&logo=youtube)](https://www.youtube.com/@clementetumbajulcan4712)\n",
        "[![GitHub](https://img.shields.io/badge/GitHub-Visit-blue?style=rounded-square&logo=github)](https://github.com/Navezjt)\n",
        "[![Huggingface](https://img.shields.io/badge/Huggingface-visit-yellow?style=rounded-square&logo=huggingface)](https://huggingface.co/JCTN)\n",
        "[![Instagram](https://img.shields.io/badge/Instagarm-Follow-pink?style=rounded-square&logo=Instagram)](https://Instagram.com/joeltumbajulca) ❤️"
      ],
      "metadata": {
        "id": "Jf5Qqv3WH65d"
      }
    },
    {
      "cell_type": "code",
      "source": [
        "#@title # <font color=\"#0497e0\">**JOEL CTN**</font>UI + <font color=\"#4684a3\"> RADIO\n",
        "%%html\n",
        "<b>Press play on the music player(Uses only 13MB of data)</b><br/>\n",
        "<audio src=\"http://stream.zeno.fm/vq4s9m2sg48uv\" controls>"
      ],
      "metadata": {
        "cellView": "form",
        "id": "524lLZ8Mzrnr"
      },
      "execution_count": null,
      "outputs": []
    },
    {
      "cell_type": "code",
      "source": [
        "#@title # <font color=\"#0497e0\">**JOEL CTN**</font>UI + <font color=\"#4684a3\"> Setup\n",
        "# Note : When prompted, click \"Restart\". \"https://c28.radioboss.fm:18046/stream\"\n",
        "!mkdir /content/invokeai\n",
        "\n",
        "!sudo apt update && apt install python3.10-venv\n",
        "!python -m venv .venv --prompt InvokeAI\n",
        "!source .venv/bin/activate\n",
        "\n",
        "!sudo apt install -y libglib2.0-0 libgl1-mesa-glx\n",
        "\n",
        "!sudo apt install -y build-essential\n",
        "!sudo apt install -y python3-opencv libopencv-dev\n",
        "!pip install pypatchmatch\n",
        "\n",
        "!pip install \"InvokeAI[xformers]\" --use-pep517 --extra-index-url https://download.pytorch.org/whl/cu121\n",
        "!npm install -g localtunnel"
      ],
      "metadata": {
        "id": "AooWt85nHkk9",
        "cellView": "form"
      },
      "execution_count": null,
      "outputs": []
    },
    {
      "cell_type": "code",
      "source": [
        "#@title # <font color=\"#0497e0\">**JOEL CTN**</font>UI + <font color=\"#4684a3\"> Launch InvokeAI\n",
        "# Note : Copy the password IP then go to the mentioned url & paste it there.\n",
        "import subprocess\n",
        "import threading\n",
        "import time\n",
        "import socket\n",
        "import urllib.request\n",
        "\n",
        "def iframe_thread(port):\n",
        "  while True:\n",
        "      time.sleep(0.5)\n",
        "      sock = socket.socket(socket.AF_INET, socket.SOCK_STREAM)\n",
        "      result = sock.connect_ex(('127.0.0.1', port))\n",
        "      if result == 0:\n",
        "        break\n",
        "      sock.close()\n",
        "  print(\"\\nInvokeAI finished loading, trying to launch localtunnel (if it gets stuck here localtunnel is having issues)\\n\")\n",
        "\n",
        "  print(\"The password/enpoint ip for localtunnel is:\", urllib.request.urlopen('https://ipv4.icanhazip.com').read().decode('utf8').strip(\"\\n\"))\n",
        "  p = subprocess.Popen([\"lt\", \"--port\", \"{}\".format(port)], stdout=subprocess.PIPE)\n",
        "  for line in p.stdout:\n",
        "    print(line.decode(), end='')\n",
        "\n",
        "\n",
        "threading.Thread(target=iframe_thread, daemon=True, args=(9090,)).start()\n",
        "\n",
        "!invokeai-web --root /content/invokeai"
      ],
      "metadata": {
        "id": "vD9neRmLH1kU",
        "cellView": "form"
      },
      "execution_count": null,
      "outputs": []
    }
  ]
}