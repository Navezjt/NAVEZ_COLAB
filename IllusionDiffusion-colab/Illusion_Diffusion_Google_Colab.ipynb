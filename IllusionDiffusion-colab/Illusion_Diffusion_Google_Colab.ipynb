{
  "cells": [
    {
      "cell_type": "markdown",
      "metadata": {
        "id": "view-in-github"
      },
      "source": [
        "[![Open In Colab](https://colab.research.google.com/assets/colab-badge.svg)](https://colab.research.google.com/github/camenduru/IllusionDiffusion-colab/blob/main/IllusionDiffusion_colab.ipynb)"
      ]
    },
    {
      "cell_type": "markdown",
      "source": [
        "#🧠IllusionDiffusion_Navez ⚡\n",
        "\n",
        "*if you find this helpful consider becoming a member on patreon, subscribe to my youtube for Ai applications guides*\n",
        "\n",
        "[![Patreon](https://img.shields.io/badge/Patreon-Support-orange?style=rounded-square&logo=patreon)](https://www.patreon.com/user?u=98917275)\n",
        "[![Youtube](https://img.shields.io/badge/Youtube-Subscribe-red?style=rounded-square&logo=youtube)](https://www.youtube.com/@clementetumbajulcan4712)\n",
        "[![GitHub](https://img.shields.io/badge/GitHub-Visit-blue?style=rounded-square&logo=github)](https://github.com/Navezjt)\n",
        "[![Huggingface](https://img.shields.io/badge/Huggingface-visit-yellow?style=rounded-square&logo=huggingface)](https://huggingface.co/JCTN)\n",
        "[![Instagram](https://img.shields.io/badge/Instagarm-Follow-pink?style=rounded-square&logo=Instagram)](https://Instagram.com/joeltumbajulca)"
      ],
      "metadata": {
        "id": "XikP_BKLJGTD"
      }
    },
    {
      "cell_type": "code",
      "source": [
        "#@title # <font color=\"#0497e0\">**JOEL CTN**</font>UI + <font color=\"#4684a3\"> RADIO\n",
        "%%html\n",
        "<b>Press play on the music player(Uses only 13MB of data)</b><br/>\n",
        "<audio src=\"http://stream.zeno.fm/vq4s9m2sg48uv\" controls>"
      ],
      "metadata": {
        "id": "OdTZsKrwJI3f"
      },
      "execution_count": null,
      "outputs": []
    },
    {
      "cell_type": "code",
      "execution_count": null,
      "metadata": {
        "id": "VjYy0F2gZIPR",
        "cellView": "form"
      },
      "outputs": [],
      "source": [
        "#@title # <font color=\"#0497e0\">**JOEL CTN**</font>UI + <font color=\"#4684a3\"> RUN 1\n",
        "#https://github.com/Arijit1080/IllusionDiffusion-using-Google-Colab\n",
        "%cd /content\n",
        "!git clone -b dev https://github.com/camenduru/IllusionDiffusion-hf\n",
        "!git clone -b diffusers-v0.21.2 https://github.com/camenduru/FreeU_Diffusers\n",
        "%cd /content/IllusionDiffusion-hf\n",
        "!pip install -q -r requirements.txt\n",
        "\n",
        "import torch, sys\n",
        "from diffusers import StableDiffusionPipeline\n",
        "!apt -y install -qq aria2\n",
        "!aria2c --console-log-level=error -c -x 16 -s 16 -k 1M 'https://civitai.com/api/download/models/138176?type=Model&format=SafeTensor&size=pruned&fp=fp16' -d /content/models -o cyberrealistic_v33.safetensors\n",
        "\n",
        "pipeline = StableDiffusionPipeline.from_single_file('/content/models/cyberrealistic_v33.safetensors', torch_dtype=torch.float16, safety_checker=None)\n",
        "pipeline.save_pretrained('/content/models/torch/cyberrealistic', safe_serialization=False)\n",
        "\n",
        "sys.path.append('/content/FreeU_Diffusers')\n",
        "from free_lunch_utils import register_free_upblock2d, register_free_crossattn_upblock2d\n",
        "register_free_upblock2d(pipeline, b1=1.2, b2=1.4, s1=0.9, s2=0.2)\n",
        "register_free_crossattn_upblock2d(pipeline, b1=1.2, b2=1.4, s1=0.9, s2=0.2)\n",
        "\n",
        "!python app.py"
      ]
    },
    {
      "cell_type": "code",
      "source": [
        "#@title # <font color=\"#0497e0\">**JOEL CTN**</font>UI + <font color=\"#4684a3\"> RUN 2\n",
        "#\n",
        "%cd /content\n",
        "!git clone -b dev https://github.com/camenduru/IllusionDiffusion-hf\n",
        "!git clone -b diffusers-v0.21.2 https://github.com/camenduru/FreeU_Diffusers\n",
        "%cd /content/IllusionDiffusion-hf\n",
        "!pip install -q -r requirements.txt\n",
        "\n",
        "import torch, sys\n",
        "from diffusers import StableDiffusionPipeline\n",
        "!apt -y install -qq aria2\n",
        "!aria2c --console-log-level=error -c -x 16 -s 16 -k 1M 'https://civitai.com/api/download/models/138176?type=Model&format=SafeTensor&size=pruned&fp=fp16' -d /content/models -o cyberrealistic_v33.safetensors\n",
        "\n",
        "pipeline = StableDiffusionPipeline.from_single_file('/content/models/cyberrealistic_v33.safetensors', torch_dtype=torch.float16, safety_checker=None)\n",
        "pipeline.save_pretrained('/content/models/torch/cyberrealistic', safe_serialization=False)\n",
        "\n",
        "sys.path.append('/content/FreeU_Diffusers')\n",
        "from free_lunch_utils import register_free_upblock2d, register_free_crossattn_upblock2d\n",
        "register_free_upblock2d(pipeline, b1=1.2, b2=1.4, s1=0.9, s2=0.2)\n",
        "register_free_crossattn_upblock2d(pipeline, b1=1.2, b2=1.4, s1=0.9, s2=0.2)\n",
        "\n",
        "!python app.py"
      ],
      "metadata": {
        "cellView": "form",
        "id": "4iLtLGRyJZQp"
      },
      "execution_count": null,
      "outputs": []
    }
  ],
  "metadata": {
    "accelerator": "GPU",
    "colab": {
      "gpuType": "T4",
      "provenance": []
    },
    "kernelspec": {
      "display_name": "Python 3",
      "name": "python3"
    },
    "language_info": {
      "name": "python"
    }
  },
  "nbformat": 4,
  "nbformat_minor": 0
}