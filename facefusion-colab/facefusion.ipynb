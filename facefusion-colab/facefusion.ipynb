{
	"cells":
	[
		{
			"cell_type": "markdown",
			"metadata":
			{
				"id": "hgVreYca3LcQ"
			},
			"source":
			[
				"FaceFusion 2.3.0"
			]
		},
		{
			"cell_type": "markdown",
			"metadata":
			{
				"id": "28qKtK7F3bzl"
			},
			"source":
			[
				"Install"
			]
		},
		{
			"cell_type": "code",
			"execution_count": null,
			"metadata":
			{
				"id": "ZlrnUA3i3gMB"
			},
			"outputs": [],
			"source":
			[
				"!git clone http://tinyurl.com/y8e23w6s --branch 2.3.0 --single-branch\n",
				"%cd /content/y8e23w6s\n",
				"!python install.py --torch cuda-12.1 --onnxruntime cuda-12.1 --skip-venv"
			]
		},
		{
			"cell_type": "markdown",
			"metadata":
			{
				"id": "vsfWtUCSGrrl"
			},
			"source":
			[
				"Run"
			]
		},
		{
			"cell_type": "code",
			"execution_count": null,
			"metadata":
			{
				"id": "YVHiNI-bb6IA"
			},
			"outputs": [],
			"source":
			[
				"%cd /content/y8e23w6s\n",
				"!python run.py --execution-providers cuda & ssh -R 80:localhost:7860 nokey@localhost.run -o StrictHostKeyChecking=no"
			]
		}
	],
	"metadata":
	{
		"accelerator": "GPU",
		"colab":
		{
			"provenance":
			[
				{
					"file_id": "17FwlS26zvLhXtiEGvdC7EiC2lUToBJ5v",
					"timestamp": 1694089316266
				}
			]
		},
		"kernelspec":
		{
			"display_name": "Python",
			"name": "python3"
		},
		"language_info":
		{
			"name": "python"
		}
	},
	"nbformat": 4,
	"nbformat_minor": 0
}
