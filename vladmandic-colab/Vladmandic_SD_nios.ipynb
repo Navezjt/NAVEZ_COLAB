{
  "nbformat": 4,
  "nbformat_minor": 0,
  "metadata": {
    "colab": {
      "provenance": [],
      "gpuType": "T4"
    },
    "kernelspec": {
      "name": "python3",
      "display_name": "Python 3"
    },
    "language_info": {
      "name": "python"
    },
    "accelerator": "GPU",
    "gpuClass": "standard"
  },
  "cells": [
    {
      "cell_type": "markdown",
      "source": [
        "<a target=\"_blank\" href=\"https://colab.research.google.com/github/Navezjt/NAVEZ_COLAB/blob/main/vladmandic-colab/JCTN_A1111.ipynb\">\n",
        "  <img src=\"https://colab.research.google.com/assets/colab-badge.svg\" alt=\"Open In Colab\"/>\n",
        "</a>\n",
        "\n",
        "# <img src=\"https://avatars.githubusercontent.com/u/110367357?s=400&u=a533e385e1d0ce56331e903f1c2ff02d74f91c29&v=4\" width=\"30\"/> **InvDudes's Vladmanidc Colab Remastered**\n",
        "---\n",
        "\n",
        "Me: ![Discord](https://dcbadge.vercel.app/api/shield/41367898021494784?style=flat)\n",
        "\n",
        "YET another Colab for Stable Diffusion. This time it's for Vladmandic's fork. Heavily based upon NoCrypt's Cola, but without using a zip file to install UI."
      ],
      "metadata": {
        "id": "Bv_S5ik_j7eg"
      }
    },
    {
      "cell_type": "code",
      "source": [
        "#@title 1.Vladmandic SD インストール\n",
        "\n",
        "#ドライブをマウント\n",
        "Mount_Drive = False # @param {type: \"boolean\"}\n",
        "\n",
        "if Mount_Drive:\n",
        "    import os\n",
        "    from google.colab import drive\n",
        "    if not os.path.exists(\"/content/drive\"):\n",
        "        drive.mount(\"/content/drive\")\n",
        "!apt -y update -qq\n",
        "!apt -y install -qq aria2\n",
        "!pip install rembg\n",
        "!pip install -q torch==2.0.0+cu118 torchvision==0.15.1+cu118 torchaudio==2.0.1+cu118 torchtext==0.15.1 torchdata==0.6.0 --extra-index-url https://download.pytorch.org/whl/cu118 -U\n",
        "!pip install -q xformers==0.0.18 triton==2.0.0 -U\n",
        "%cd /content\n",
        "\n",
        "!git clone https://github.com/Navezjt/automatic\n"
      ],
      "metadata": {
        "cellView": "form",
        "id": "kQQDaEsXRp5y",
        "colab": {
          "base_uri": "https://localhost:8080/"
        },
        "outputId": "989fdf40-6ac5-4a05-fd68-7de055b446cf"
      },
      "execution_count": null,
      "outputs": [
        {
          "output_type": "stream",
          "name": "stdout",
          "text": [
            "10 packages can be upgraded. Run 'apt list --upgradable' to see them.\n",
            "The following additional packages will be installed:\n",
            "  libaria2-0 libc-ares2\n",
            "The following NEW packages will be installed:\n",
            "  aria2 libaria2-0 libc-ares2\n",
            "0 upgraded, 3 newly installed, 0 to remove and 10 not upgraded.\n",
            "Need to get 1,513 kB of archives.\n",
            "After this operation, 5,441 kB of additional disk space will be used.\n",
            "Selecting previously unselected package libc-ares2:amd64.\n",
            "(Reading database ... 129824 files and directories currently installed.)\n",
            "Preparing to unpack .../libc-ares2_1.18.1-1ubuntu0.22.04.2_amd64.deb ...\n",
            "Unpacking libc-ares2:amd64 (1.18.1-1ubuntu0.22.04.2) ...\n",
            "Selecting previously unselected package libaria2-0:amd64.\n",
            "Preparing to unpack .../libaria2-0_1.36.0-1_amd64.deb ...\n",
            "Unpacking libaria2-0:amd64 (1.36.0-1) ...\n",
            "Selecting previously unselected package aria2.\n",
            "Preparing to unpack .../aria2_1.36.0-1_amd64.deb ...\n",
            "Unpacking aria2 (1.36.0-1) ...\n",
            "Setting up libc-ares2:amd64 (1.18.1-1ubuntu0.22.04.2) ...\n",
            "Setting up libaria2-0:amd64 (1.36.0-1) ...\n",
            "Setting up aria2 (1.36.0-1) ...\n",
            "Processing triggers for man-db (2.10.2-1) ...\n"
          ]
        }
      ]
    },
    {
      "cell_type": "code",
      "source": [
        "#@title  2.モデル選択\n",
        "\n",
        "import os\n",
        "\n",
        "model_name =\"maverick_v1.safetensors\" #@param [\"stable_diffusion_v1.5\",\"stable_diffusion_v2.1\",\"waifu_diffusion_v1.3\",\"Openjourney\",\"anything-v3.0\",\"anything-v4.0\",\"anything-v4.5\",\"Counterfeit-V2.0\",\"Counterfeit-V2.5\",\"8528-diffusion\",\"AbyssOrangeMix2\",\"EerieOrangeMix2\",\"trinart2_step115000\",\"Eimis_Anime_Diffusion_1.0v\",\"dreamlike-photoreal-2.0\",\"Cyberpunk-Anime-Diffusion\",\"Plat_Diffusion_v1.3.1\",\"ACertainThing\",\"pastel_mix\",\"Basil_mix_fixed\",\"Realistic_Vision_V1.3\",\"SukiyakiMix-v1.0\",\"7th_anime_v1.1\", \"7th_anime_v2_A\", \"7th_anime_v2_B\", \"7th_anime_v2_C\", \"7th_anime_v2_G\",\"7th_anime_v3_A\", \"7th_anime_v3_B\", \"7th_anime_v3_C\",\"7th_anime_3.1_B\",\"YuzuGinger_v4\",\"YuzuLemonMilk_v1.5\", \"Defmix-v1.1\",\"RDtMix\",\"meadmix\",\"Nabylon-v1.0\",\"LonganMix\",\"Corneo's_7th_Heaven_Mix\", \"Corneo's_Shinra26_Mix\",\"atwmix_test2\",\"Graham_Special\", \"BalorV2featAbyssOrange2\",\"Balor-V2.5featAOM3A3\",\"ChilloutMix\",\"beautifulRealistic_v60\",\"epicrealism_pureEvolutionV3\",\"realisticVisionV40_v40VAE\",\"dream2reality_v10\",\"toonyou_beta5Unstable\",\"realcartoon3d_v4\",\"maverick_v1.safetensors\", \"wd-1-5-beta2\",\"AniReality-Mix\"] {allow-input: false}\n",
        "\n",
        "model_dict={\n",
        "    \"stable_diffusion_v1.5\":\"https://huggingface.co/camenduru/sd15/resolve/main/v1-5-pruned-emaonly.ckpt\",\n",
        "    \"stable_diffusion_v2.1\":\"https://huggingface.co/stabilityai/stable-diffusion-2-1/resolve/main/v2-1_768-ema-pruned.ckpt\",\n",
        "    \"waifu_diffusion_v1.3\":\"https://huggingface.co/hakurei/waifu-diffusion-v1-3/resolve/main/wd-v1-3-float32.ckpt\",\n",
        "    \"Openjourney\":\"https://huggingface.co/prompthero/openjourney/resolve/main/mdjrny-v4.safetensors\",\n",
        "    \"anything-v3.0\":\"https://huggingface.co/Linaqruf/anything-v3.0/resolve/main/anything-v3-fp32-pruned.safetensors\",\n",
        "    \"anything-v4.0\":\"https://huggingface.co/andite/anything-v4.0/resolve/main/anything-v4.0-pruned.ckpt\",\n",
        "    \"anything-v4.5\":\"https://huggingface.co/andite/anything-v4.0/resolve/main/anything-v4.5-pruned.safetensors\",\n",
        "    \"Counterfeit-V2.0\":\"https://huggingface.co/gsdf/Counterfeit-V2.0/resolve/main/Counterfeit-V2.0fp16.safetensors\",\n",
        "    \"Counterfeit-V2.5\":\"https://huggingface.co/gsdf/Counterfeit-V2.5/resolve/main/Counterfeit-V2.5_pruned.safetensors\",\n",
        "    \"8528-diffusion\":\"https://huggingface.co/852wa/8528-diffusion/resolve/main/8528d-final.ckpt\",\n",
        "    \"AbyssOrangeMix2\":\"https://huggingface.co/WarriorMama777/OrangeMixs/resolve/main/Models/AbyssOrangeMix2/AbyssOrangeMix2_nsfw.safetensors\",\n",
        "    \"EerieOrangeMix2\":\"https://huggingface.co/WarriorMama777/OrangeMixs/resolve/main/Models/EerieOrangeMix/EerieOrangeMix2.safetensors\",\n",
        "    \"trinart2_step115000\":\"https://huggingface.co/naclbit/trinart_stable_diffusion_v2/resolve/main/trinart2_step115000.ckpt\",\n",
        "    \"EimisAnimeDiffusion_1.0v\":\"https://huggingface.co/eimiss/EimisAnimeDiffusion_1.0v/resolve/main/EimisAnimeDiffusion_1-0v.ckpt\",\n",
        "    \"dreamlike-photoreal-2.0\":\"https://huggingface.co/dreamlike-art/dreamlike-photoreal-2.0/resolve/main/dreamlike-photoreal-2.0.safetensors\",\n",
        "    \"Cyberpunk-Anime-Diffusion\":\"https://huggingface.co/DGSpitzer/Cyberpunk-Anime-Diffusion/resolve/main/Cyberpunk-Anime-Diffusion.ckpt\",\n",
        "    \"Plat_Diffusion_v1.3.1\":\"https://huggingface.co/p1atdev/pd-archive/resolve/main/plat-v1-3-1.safetensors\",\n",
        "    \"ACertainThing\":\"https://huggingface.co/JosephusCheung/ACertainThing/resolve/main/ACertainThing.ckpt\",\n",
        "    \"pastel_mix\":\"https://huggingface.co/andite/pastel-mix/resolve/main/pastelmix-better-vae-fp16.safetensors\",\n",
        "    \"Basil_mix_fixed\":\"https://huggingface.co/nuigurumi/basil_mix/resolve/main/Basil_mix_fixed.safetensors\",\n",
        "    \"Realistic_Vision_V1.3\":\"https://civitai.com/api/download/models/6987\",\n",
        "    \"SukiyakiMix-v1.0\":\"https://huggingface.co/Vsukiyaki/SukiyakiMix-v1.0/resolve/main/SukiyakiMix-v1.0-fp16.safetensors\",\n",
        "    \"7th_anime_v1.1\":\"https://huggingface.co/syaimu/7th_Layer/resolve/main/7th_anime_v1/7th_anime_v1.1.safetensors\",\n",
        "    \"7th_anime_v2_A\":\"https://huggingface.co/syaimu/7th_Layer/resolve/main/7th_anime_v2/7th_anime_v2_A.safetensors\",\n",
        "    \"7th_anime_v2_B\":\"https://huggingface.co/syaimu/7th_Layer/resolve/main/7th_anime_v2/7th_anime_v2_B.safetensors\",\n",
        "    \"7th_anime_v2_C\":\"https://huggingface.co/syaimu/7th_Layer/resolve/main/7th_anime_v2/7th_anime_v2_C.safetensors\",\n",
        "    \"7th_anime_v2_G\":\"https://huggingface.co/syaimu/7th_Layer/resolve/main/7th_anime_v2/7th_anime_v2_G.safetensors\",\n",
        "    \"7th_anime_v3_A\":\"https://huggingface.co/syaimu/7th_Layer/resolve/main/7th_anime_v3/7th_anime_v3_A.safetensors\",\n",
        "    \"7th_anime_v3_B\":\"https://huggingface.co/syaimu/7th_Layer/resolve/main/7th_anime_v3/7th_anime_v3_B.safetensors\",\n",
        "    \"7th_anime_v3_C\":\"https://huggingface.co/syaimu/7th_Layer/resolve/main/7th_anime_v3/7th_anime_v3_C.safetensors\",\n",
        "    \"7th_anime_3.1_B\":\"https://huggingface.co/syaimu/7th_test/resolve/main/7th_anime_3.1_B.ckpt\",\n",
        "    \"YuzuGinger_v4\":\"https://huggingface.co/thiros/YuzuLemonTea/resolve/main/YuzuGinger_v4-pruned.safetensors\",\n",
        "    \"YuzuLemonMilk_v1.5\":\"https://huggingface.co/thiros/YuzuLemonTea/resolve/main/YuzuLemonMilk_v1.5-pruned.safetensors\",\n",
        "    \"Defmix-v1.1\":\"https://huggingface.co/Defpoint/Defmix-v1.0/resolve/main/Defmix-v1.1.safetensors\",\n",
        "    \"RDtMix\":\"https://huggingface.co/Hemlok/DateMix/resolve/main/RDtMix-fp16.safetensors\",\n",
        "    \"meadmix\":\"https://huggingface.co/sazanka-imoto/MeadMix/resolve/main/meadmix.safetensors\",\n",
        "    \"Nabylon-v1.0\":\"https://huggingface.co/NegiInNattoMaki/Nabylon-v1.0/resolve/main/Nabylon-v1.0-fp16.safetensors\",\n",
        "    \"LonganMix\":\"https://huggingface.co/Hemlok/LonganMix/resolve/main/LonganMix-fp16.ckpt\",\n",
        "    \"Corneo's_7th_Heaven_Mix\":\"https://civitai.com/api/download/models/5338\",\n",
        "    \"Corneo's_Shinra26_Mix\":\"https://civitai.com/api/download/models/6918\",\n",
        "    \"atwmix_test2\":\"https://huggingface.co/atsuwo/atwmix_test2/resolve/main/atwmix_test2.ckpt\",\n",
        "    \"Graham_Special\":\"https://huggingface.co/Graham-san/Graham_Special/resolve/main/Graham%20Special%20v1.ckpt\",\n",
        "    \"BalorV2featAbyssOrange2\":\"https://huggingface.co/ploughB660/Balor-V2/resolve/main/BalorV2featAbyssOrange2.safetensors\",\n",
        "    \"Balor-V2.5featAOM3A3\":\"https://huggingface.co/ploughB660/Balor-V3/resolve/main/Balor-V2.5featAOM3A3.safetensors\",\n",
        "    \"ChilloutMix\":\"https://civitai.com/api/download/models/11745\",\n",
        "    \"beautifulRealistic_v60\":\"https://civitai.com/api/download/models/113479\",\n",
        "    \"epicrealism_pureEvolutionV3\":\"https://civitai.com/api/download/models/105035\",\n",
        "    \"realisticVisionV40_v40VAE\":\"https://civitai.com/api/download/models/114367\",\n",
        "    \"dream2reality_v10\":\"https://civitai.com/api/download/models/113269\",\n",
        "    \"toonyou_beta5Unstable\":\"https://civitai.com/api/download/models/102996\",\n",
        "    \"realcartoon3d_v4\":\"https://civitai.com/api/download/models/118590\",\n",
        "    \"maverick_v1.safetensors\":\"https://huggingface.co/JCTN/dark-sushi-mix/resolve/main/maverick_v1.safetensors\",\n",
        "    \"wd-1-5-beta2\":\"https://huggingface.co/waifu-diffusion/wd-1-5-beta2/resolve/main/checkpoints/wd-1-5-beta2-aesthetic-fp16.safetensors\",\n",
        "    \"AniReality-Mix\":\"https://civitai.com/api/download/models/33305\"\n",
        "}\n",
        "\n",
        "model_url = model_dict.get(model_name)\n",
        "\n",
        "def install(model_url):\n",
        "    base_name = os.path.basename(model_url)\n",
        "    if model_url.startswith(\"https://drive.google.com\"):\n",
        "        os.chdir(\"/content/models\")\n",
        "        !gdown --fuzzy {model_url}\n",
        "    elif model_url.startswith(\"https://huggingface.co/\"):\n",
        "        if \"/blob/\" in model_url:\n",
        "            model_url = model_url.replace(\"/blob/\", \"/resolve/\")\n",
        "        huggingface_token =\"YOUR_HUGGINGFACE_TOKEN\" # 自分のトークンに変更\n",
        "        user_header = f'\"Authorization: Bearer {huggingface_token}\"'\n",
        "        !aria2c --console-log-level=error --summary-interval=10 --header={user_header} -c -x 16 -s 16 -k 1M {model_url} -d /content/automatic/models/Stable-diffusion -o {base_name}\n",
        "    else:\n",
        "        !aria2c --console-log-level=error --summary-interval=10 -c -x 16 -k 1M -s 16 -d /content/automatic/models/Stable-diffusion {model_url}\n",
        "\n",
        "install(model_url)"
      ],
      "metadata": {
        "id": "gYCXT9EPbgEo",
        "cellView": "form"
      },
      "execution_count": null,
      "outputs": []
    },
    {
      "cell_type": "code",
      "source": [
        "#@title 3.VAE\n",
        "import os\n",
        "\n",
        "vae_name = \"orangemix.vae.pt\" #@param [\"vae-ft-mse-840000-ema-pruned\",\"vae-ft-mse-560000-ema-pruned\",\"kl-f8-anime\",\"kl-f8-anime2\",\"Anything-V3.0.vae.pt\",\"anything-v4.0.vae.pt\",\"autoencoder_fix_kl-f8-trinart_characters\",\"orangemix.vae.pt\"] {allow-input: false}\n",
        "\n",
        "url_dict = {\n",
        "    \"vae-ft-mse-840000-ema-pruned\": \"https://huggingface.co/stabilityai/sd-vae-ft-mse-original/resolve/main/vae-ft-mse-840000-ema-pruned.safetensors\",\n",
        "    \"vae-ft-mse-560000-ema-pruned\": \"https://huggingface.co/stabilityai/sd-vae-ft-ema-original/resolve/main/vae-ft-ema-560000-ema-pruned.ckpt\",\n",
        "    \"kl-f8-anime\": \"https://huggingface.co/hakurei/waifu-diffusion-v1-4/resolve/main/vae/kl-f8-anime.ckpt\",\n",
        "    \"kl-f8-anime2\": \"https://huggingface.co/hakurei/waifu-diffusion-v1-4/resolve/main/vae/kl-f8-anime2.ckpt\",\n",
        "    \"Anything-V3.0.vae.pt\": \"https://huggingface.co/ckpt/anything-v3.0/resolve/main/Anything-V3.0.vae.pt\",\n",
        "    \"anything-v4.0.vae.pt\":\"https://huggingface.co/andite/anything-v4.0/resolve/main/anything-v4.0.vae.pt\",\n",
        "    \"autoencoder_fix_kl-f8-trinart_characters\": \"https://huggingface.co/naclbit/trinart_characters_19.2m_stable_diffusion_v1/resolve/main/autoencoder_fix_kl-f8-trinart_characters.ckpt\",\n",
        "    \"orangemix.vae.pt\": \"https://huggingface.co/WarriorMama777/OrangeMixs/resolve/main/VAEs/orangemix.vae.pt\",\n",
        "}\n",
        "\n",
        "vae_url = url_dict.get(vae_name)\n",
        "\n",
        "def install(vae_url):\n",
        "    base_name = os.path.basename(vae_url)\n",
        "    !aria2c --console-log-level=error --summary-interval=10 -c -x 16 -k 1M -s 16 {vae_url} -d /content/automatic/models/VAE -o {base_name}\n",
        "\n",
        "    print(base_name)\n",
        "\n",
        "install(vae_url)\n"
      ],
      "metadata": {
        "id": "hGBWj7GV3xnx",
        "cellView": "form"
      },
      "execution_count": null,
      "outputs": []
    },
    {
      "cell_type": "code",
      "source": [
        "#@title 4.Vladmandic webuiの起動\n",
        "%cd /content/automatic\n",
        "!python launch.py --no-hashing --share --skip-extensions"
      ],
      "metadata": {
        "id": "RWleSgmvhi9Z",
        "cellView": "form"
      },
      "execution_count": null,
      "outputs": []
    }
  ]
}
